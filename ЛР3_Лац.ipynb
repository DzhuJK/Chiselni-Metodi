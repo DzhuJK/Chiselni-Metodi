{
  "nbformat": 4,
  "nbformat_minor": 0,
  "metadata": {
    "colab": {
      "provenance": [],
      "authorship_tag": "ABX9TyOi6etLDZZ8yHNMeNSaBzPk",
      "include_colab_link": true
    },
    "kernelspec": {
      "name": "python3",
      "display_name": "Python 3"
    },
    "language_info": {
      "name": "python"
    }
  },
  "cells": [
    {
      "cell_type": "markdown",
      "metadata": {
        "id": "view-in-github",
        "colab_type": "text"
      },
      "source": [
        "<a href=\"https://colab.research.google.com/github/DzhuJK/Chiselni-Metodi/blob/main/%D0%9B%D0%A03_%D0%9B%D0%B0%D1%86.ipynb\" target=\"_parent\"><img src=\"https://colab.research.google.com/assets/colab-badge.svg\" alt=\"Open In Colab\"/></a>"
      ]
    },
    {
      "cell_type": "markdown",
      "source": [
        "#Лац Варвара\n",
        "Лабораторна робота №3\n",
        "Варіант 9\n",
        "Група 2-8"
      ],
      "metadata": {
        "id": "EkXzp2odFNRu"
      }
    },
    {
      "cell_type": "markdown",
      "source": [
        "6x^4+4x^3-x^2-x-10=0"
      ],
      "metadata": {
        "id": "YybHWOduFXmN"
      }
    },
    {
      "cell_type": "code",
      "execution_count": 1,
      "metadata": {
        "colab": {
          "base_uri": "https://localhost:8080/"
        },
        "id": "8dTFmiADE-UC",
        "outputId": "9a351b43-b584-41c2-9dc7-faae4a806a81"
      },
      "outputs": [
        {
          "output_type": "stream",
          "name": "stdout",
          "text": [
            "Collecting numdifftools\n",
            "  Downloading numdifftools-0.9.41-py2.py3-none-any.whl.metadata (39 kB)\n",
            "Requirement already satisfied: numpy>=1.9 in /usr/local/lib/python3.10/dist-packages (from numdifftools) (1.26.4)\n",
            "Requirement already satisfied: scipy>=0.8 in /usr/local/lib/python3.10/dist-packages (from numdifftools) (1.13.1)\n",
            "Downloading numdifftools-0.9.41-py2.py3-none-any.whl (100 kB)\n",
            "\u001b[2K   \u001b[90m━━━━━━━━━━━━━━━━━━━━━━━━━━━━━━━━━━━━━━━━\u001b[0m \u001b[32m100.2/100.2 kB\u001b[0m \u001b[31m2.0 MB/s\u001b[0m eta \u001b[36m0:00:00\u001b[0m\n",
            "\u001b[?25hInstalling collected packages: numdifftools\n",
            "Successfully installed numdifftools-0.9.41\n"
          ]
        }
      ],
      "source": [
        "!pip install numdifftools"
      ]
    },
    {
      "cell_type": "code",
      "source": [
        "#відокремлення коренів\n",
        "import numpy as np\n",
        "\n",
        "def f(x):\n",
        "    return 6 * x**4 + 4 * x**3 - x**2 - x - 10\n",
        "\n",
        "def find_segments():\n",
        "    search_range = np.arange(-10, 4, 1)\n",
        "    segments = []\n",
        "\n",
        "    for i in range(1, len(search_range)):\n",
        "        x_prev = search_range[i - 1]\n",
        "        x_curr = search_range[i]\n",
        "        if f(x_prev) * f(x_curr) < 0:\n",
        "            segments.append((x_prev, x_curr))\n",
        "\n",
        "    return segments\n",
        "\n",
        "segments = find_segments()\n",
        "for segment in segments:\n",
        "    print(f'Found segment: {segment}')"
      ],
      "metadata": {
        "colab": {
          "base_uri": "https://localhost:8080/"
        },
        "id": "-CoVNotBFiyC",
        "outputId": "d12f7d72-ad8f-4b25-f27b-5cac13265262"
      },
      "execution_count": 2,
      "outputs": [
        {
          "output_type": "stream",
          "name": "stdout",
          "text": [
            "Found segment: (-2, -1)\n",
            "Found segment: (1, 2)\n"
          ]
        }
      ]
    },
    {
      "cell_type": "code",
      "source": [
        "import numpy as np\n",
        "import matplotlib.pyplot as plt\n",
        "\n",
        "def f(x):\n",
        "    return 6 * x**4 + 4 * x**3 - x**2 - x - 10\n",
        "\n",
        "# Генерація значень x і y\n",
        "x = np.linspace(-2, 2, 200)\n",
        "y = f(x)\n",
        "\n",
        "# Побудова графіка\n",
        "plt.figure(figsize=(8, 6))\n",
        "plt.plot(x, y, label=r'$6x^4 + 4x^3 - x^2 - x - 10$', color='blue')\n",
        "plt.title('Графік функції $6x^4 + 4x^3 - x^2 - x - 10$')\n",
        "plt.xlabel('x')\n",
        "plt.ylabel('f(x)')\n",
        "\n",
        "# Додавання осей із стрілками\n",
        "plt.axhline(0, color='black', linewidth=0.5)\n",
        "plt.axvline(0, color='black', linewidth=0.5)\n",
        "\n",
        "# Додавання підписів осей\n",
        "plt.annotate('x', xy=(2.05, -4), ha='center', va='center')\n",
        "plt.annotate('y', xy=(-0.3, 190), ha='center', va='center')\n",
        "\n",
        "plt.grid(True)\n",
        "plt.legend()\n",
        "plt.show()"
      ],
      "metadata": {
        "colab": {
          "base_uri": "https://localhost:8080/",
          "height": 568
        },
        "id": "9nb1OtseFuPg",
        "outputId": "3a093a1b-7405-4258-cc62-0d7923e941c8"
      },
      "execution_count": 3,
      "outputs": [
        {
          "output_type": "display_data",
          "data": {
            "text/plain": [
              "<Figure size 800x600 with 1 Axes>"
            ],
            "image/png": "[encoded data removed]"
          },
          "metadata": {}
        }
      ]
    },
    {
      "cell_type": "code",
      "source": [
        "import numpy as np\n",
        "import numdifftools as nd\n",
        "\n",
        "def f(x):\n",
        "    return 6 * x**4 + 4 * x**3 - x**2 - x - 10  # функція\n",
        "\n",
        "def newton_method(a, b, eps, f):\n",
        "    xi = b if f(b) * nd.Derivative(f, n=2)(b) > 0 else a\n",
        "    while True:\n",
        "        xi_1 = xi - f(xi) / nd.Derivative(f)(xi)\n",
        "        if abs(xi_1 - xi) <= eps:\n",
        "            break\n",
        "        xi = xi_1\n",
        "    print('Метод Ньютона, x =', round(xi_1, 4))\n",
        "\n",
        "def combined_method(a, b, eps, f):\n",
        "    a0, b0 = (a, b) if f(a) * nd.Derivative(f, n=2)(a) > 0 else (b, a)\n",
        "    ai, bi = a0, b0\n",
        "    while True:\n",
        "        ai_1 = ai - f(ai) * (bi - ai) / (f(bi) - f(ai))\n",
        "        bi_1 = bi - f(bi) / nd.Derivative(f)(bi)\n",
        "        if abs(ai_1 - bi_1) <= eps:\n",
        "            break\n",
        "        ai, bi = ai_1, bi_1\n",
        "    print('Комбінований метод, x =', round((ai_1 + bi_1) / 2, 4))\n",
        "\n",
        "if __name__ == \"__main__\":\n",
        "    intervals = [(-2, -1), (1, 2)]\n",
        "    eps = 0.001\n",
        "\n",
        "    for a, b in intervals:\n",
        "        print(f\"Розв'язання на відрізку [{a}, {b}]\")\n",
        "        newton_method(a, b, eps, f)\n",
        "        combined_method(a, b, eps, f)\n",
        "        print()\n"
      ],
      "metadata": {
        "colab": {
          "base_uri": "https://localhost:8080/"
        },
        "id": "MN638uA7IWVt",
        "outputId": "7b1598dc-bb9d-4494-a9e7-991c222018a3"
      },
      "execution_count": 11,
      "outputs": [
        {
          "output_type": "stream",
          "name": "stdout",
          "text": [
            "Розв'язання на відрізку [-2, -1]\n",
            "Метод Ньютона, x = -1.3607\n",
            "Комбінований метод, x = -1.3607\n",
            "\n",
            "Розв'язання на відрізку [1, 2]\n",
            "Метод Ньютона, x = 1.056\n",
            "Комбінований метод, x = 1.0559\n",
            "\n"
          ]
        }
      ]
    }
  ]
}