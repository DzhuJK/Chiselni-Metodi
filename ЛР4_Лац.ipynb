{
  "nbformat": 4,
  "nbformat_minor": 0,
  "metadata": {
    "colab": {
      "provenance": [],
      "authorship_tag": "ABX9TyMVYrMW+3WOgpWvxRWtjbMJ",
      "include_colab_link": true
    },
    "kernelspec": {
      "name": "python3",
      "display_name": "Python 3"
    },
    "language_info": {
      "name": "python"
    }
  },
  "cells": [
    {
      "cell_type": "markdown",
      "metadata": {
        "id": "view-in-github",
        "colab_type": "text"
      },
      "source": [
        "<a href=\"https://colab.research.google.com/github/DzhuJK/Chiselni-Metodi/blob/main/%D0%9B%D0%A04_%D0%9B%D0%B0%D1%86.ipynb\" target=\"_parent\"><img src=\"https://colab.research.google.com/assets/colab-badge.svg\" alt=\"Open In Colab\"/></a>"
      ]
    },
    {
      "cell_type": "markdown",
      "source": [
        "#Лац Варвара\n",
        "Лабораторна робота №4\n",
        "Варіант 9\n",
        "Група 2-8"
      ],
      "metadata": {
        "id": "sjkFtLALEtY5"
      }
    },
    {
      "cell_type": "code",
      "source": [
        "!pip install numpy"
      ],
      "metadata": {
        "colab": {
          "base_uri": "https://localhost:8080/"
        },
        "id": "FP9H8LMOHZbT",
        "outputId": "567199e6-8418-4fef-de0c-c48128973686"
      },
      "execution_count": 2,
      "outputs": [
        {
          "output_type": "stream",
          "name": "stdout",
          "text": [
            "Requirement already satisfied: numpy in /usr/local/lib/python3.10/dist-packages (1.26.4)\n"
          ]
        }
      ]
    },
    {
      "cell_type": "code",
      "source": [
        "import numpy as np\n",
        "numpy_version = np.__version__\n",
        "print(f\"NumPy version: {numpy_version}\")"
      ],
      "metadata": {
        "colab": {
          "base_uri": "https://localhost:8080/"
        },
        "id": "NloTF35DHqQl",
        "outputId": "543508c0-8034-42d2-e328-d9ff6a2ad223"
      },
      "execution_count": 5,
      "outputs": [
        {
          "output_type": "stream",
          "name": "stdout",
          "text": [
            "NumPy version: 1.26.4\n"
          ]
        }
      ]
    },
    {
      "cell_type": "markdown",
      "source": [
        "1. Знайти матрицю С=АВ-ВА\n",
        "\n",
        "![зображення_2024-08-19_142615901.png](data:image/png;base64,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)"
      ],
      "metadata": {
        "id": "XhKE_A7gFM5g"
      }
    },
    {
      "cell_type": "code",
      "source": [
        "#  С=АВ-ВА\n",
        "a = np.matrix([[1, 1, 1], [0, 1, 1], [0, 0, 1]])\n",
        "b = np.matrix([[7, 5, 3], [0, 7, 5], [0, 0, 7]])\n",
        "ab = np.dot(a, b)\n",
        "ba = np.dot(b, a)\n",
        "print(\"Добуток матриці ab:\")\n",
        "print(ab)\n",
        "print(\"Добуток матриці ba:\")\n",
        "print(ba)\n",
        "c = ab - ba\n",
        "print(\"Матриця С:\")\n",
        "print(c)"
      ],
      "metadata": {
        "colab": {
          "base_uri": "https://localhost:8080/"
        },
        "id": "MzpFwnsdFowD",
        "outputId": "03d6fd81-fc1a-47cb-af5b-48a22d506a23"
      },
      "execution_count": 10,
      "outputs": [
        {
          "output_type": "stream",
          "name": "stdout",
          "text": [
            "Добуток матриці ab:\n",
            "[[ 7 12 15]\n",
            " [ 0  7 12]\n",
            " [ 0  0  7]]\n",
            "Добуток матриці ba:\n",
            "[[ 7 12 15]\n",
            " [ 0  7 12]\n",
            " [ 0  0  7]]\n",
            "Матриця С:\n",
            "[[0 0 0]\n",
            " [0 0 0]\n",
            " [0 0 0]]\n"
          ]
        }
      ]
    },
    {
      "cell_type": "markdown",
      "source": [
        "2. Піднести матрицю до степення\n",
        "\n",
        "![зображення_2024-08-19_142526790.png](data:image/png;base64,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)"
      ],
      "metadata": {
        "id": "FuH5icHGIrZr"
      }
    },
    {
      "cell_type": "code",
      "source": [
        "c = np.array([\n",
        "    [-1, 0, 2],\n",
        "    [0, 1, 0],\n",
        "    [1, 2, -1]\n",
        "])\n",
        "a = np.dot(c, c)\n",
        "print(\"Матриця піднесена до степеня:\")\n",
        "print(a)\n"
      ],
      "metadata": {
        "colab": {
          "base_uri": "https://localhost:8080/"
        },
        "id": "rDjt3l7ZIrGa",
        "outputId": "12897b7e-1370-4d9c-f376-29ca8f68585a"
      },
      "execution_count": 12,
      "outputs": [
        {
          "output_type": "stream",
          "name": "stdout",
          "text": [
            "Матриця піднесена до степеня:\n",
            "[[ 3  4 -4]\n",
            " [ 0  1  0]\n",
            " [-2  0  3]]\n"
          ]
        }
      ]
    },
    {
      "cell_type": "markdown",
      "source": [
        "3. Знайти добуток матриць\n",
        "\n",
        "![зображення_2024-08-19_142457934.png](data:image/png;base64,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)"
      ],
      "metadata": {
        "id": "nN6K8EWqKAmU"
      }
    },
    {
      "cell_type": "code",
      "source": [
        "a = np.matrix([[3, 0, 7], [-4, 2, 3], [-1, 1, 2]])\n",
        "b = np.matrix([[1], [2], [4]])\n",
        "c = np.dot(a, b)\n",
        "print(\"Добуток матриць:\")\n",
        "print(c)"
      ],
      "metadata": {
        "colab": {
          "base_uri": "https://localhost:8080/"
        },
        "id": "M5S0IWxoKjcV",
        "outputId": "ef88c00f-1f66-49a0-dcd7-f8744e6710ea"
      },
      "execution_count": 13,
      "outputs": [
        {
          "output_type": "stream",
          "name": "stdout",
          "text": [
            "Добуток матриць:\n",
            "[[31]\n",
            " [12]\n",
            " [ 9]]\n"
          ]
        }
      ]
    },
    {
      "cell_type": "markdown",
      "source": [
        "4. Обчислити визначник\n",
        "\n",
        "![зображення_2024-08-19_142429146.png](data:image/png;base64,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)"
      ],
      "metadata": {
        "id": "uW9FFxUOK7iQ"
      }
    },
    {
      "cell_type": "code",
      "source": [
        "a = np.array([[1, 5, -5], [4, 0, 3], [2, -10, 3]])\n",
        "a_det = np.linalg.det(a)\n",
        "print(\"Визначник матриці:\")\n",
        "print(a_det.round(2))"
      ],
      "metadata": {
        "colab": {
          "base_uri": "https://localhost:8080/"
        },
        "id": "fj6xLW0hLCGt",
        "outputId": "e1e76277-97fc-44c7-a153-6c733e8ea312"
      },
      "execution_count": 14,
      "outputs": [
        {
          "output_type": "stream",
          "name": "stdout",
          "text": [
            "Визначник матриці:\n",
            "200.0\n"
          ]
        }
      ]
    },
    {
      "cell_type": "markdown",
      "source": [
        "5. Обчислити визначник\n",
        "\n",
        "![зображення_2024-08-19_142403786.png](data:image/png;base64,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)"
      ],
      "metadata": {
        "id": "iapcmLeIMJ1l"
      }
    },
    {
      "cell_type": "code",
      "source": [
        "a = np.array([[2, 3, 4, 1], [1, 2, 3, 4], [3, 4, 1, 2], [4, 1, 2, 3]])\n",
        "a_det = np.linalg.det(a)\n",
        "print(\"Визначник матриці:\")\n",
        "print(a_det.round(2))"
      ],
      "metadata": {
        "colab": {
          "base_uri": "https://localhost:8080/"
        },
        "id": "0NekLqAyMSws",
        "outputId": "e6d14615-2895-4999-d02f-5b56bd5b9b3c"
      },
      "execution_count": 15,
      "outputs": [
        {
          "output_type": "stream",
          "name": "stdout",
          "text": [
            "Визначник матриці:\n",
            "-160.0\n"
          ]
        }
      ]
    },
    {
      "cell_type": "markdown",
      "source": [
        "6. Знайти обернену матрицю до матриці\n",
        "\n",
        "![зображення_2024-08-19_142321765.png](data:image/png;base64,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)"
      ],
      "metadata": {
        "id": "9-s9SysQM2nf"
      }
    },
    {
      "cell_type": "code",
      "source": [
        "a = np.matrix([[2, 1, 0, 0], [3, 2, 0, 0], [1, 1, 3, 4], [2, -1, 2, 3]])\n",
        "a_inv = np.linalg.inv(a)\n",
        "print(\"Обернена матриця:\")\n",
        "print(a_inv)"
      ],
      "metadata": {
        "colab": {
          "base_uri": "https://localhost:8080/"
        },
        "id": "Kmg-pHtvM84i",
        "outputId": "12f7a45a-73f8-4cf4-b8cc-f4d0a2e2ddaa"
      },
      "execution_count": 16,
      "outputs": [
        {
          "output_type": "stream",
          "name": "stdout",
          "text": [
            "Обернена матриця:\n",
            "[[  2.  -1.   0.   0.]\n",
            " [ -3.   2.  -0.  -0.]\n",
            " [ 31. -19.   3.  -4.]\n",
            " [-23.  14.  -2.   3.]]\n"
          ]
        }
      ]
    },
    {
      "cell_type": "markdown",
      "source": [
        "7. Визначити ранг матриці\n",
        "\n",
        "![зображення_2024-08-19_142234492.png](data:image/png;base64,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)"
      ],
      "metadata": {
        "id": "rGwHL-DqOK9u"
      }
    },
    {
      "cell_type": "code",
      "source": [
        "a = np.matrix([[-2, 3, 1, -1], [3, 2, 1, 4], [1, 2, 3, 4], [0, 2, 3, 3]])\n",
        "rank = np.linalg.matrix_rank(a)\n",
        "print(\"Ранг матриці:\")\n",
        "print(rank)"
      ],
      "metadata": {
        "colab": {
          "base_uri": "https://localhost:8080/"
        },
        "id": "3VwVGtmEOaVH",
        "outputId": "49f78e92-7581-4128-e7f1-6f78f3f2bf15"
      },
      "execution_count": 43,
      "outputs": [
        {
          "output_type": "stream",
          "name": "stdout",
          "text": [
            "Ранг матриці:\n",
            "3\n"
          ]
        }
      ]
    },
    {
      "cell_type": "markdown",
      "source": [
        "8. Розв'язати систему лінійних рівнянь методом Крамера, матричним методом (тобто обчислити обернену матрицю) і м. Гауса. Потім зробити перевірку за допомогою solve() пакету linalg.\n",
        "\n",
        "![зображення_2024-08-19_142140156.png](data:image/png;base64,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)"
      ],
      "metadata": {
        "id": "bHMBWgE3O9eL"
      }
    },
    {
      "cell_type": "code",
      "source": [
        "# Розв*язання систем лінійних рівнянь.\n",
        "\n",
        "import numpy as np\n",
        "\n",
        "# Матричний метод\n",
        "def matrix_method(coefficients, constants):\n",
        "    try:\n",
        "        inverse_matrix = np.linalg.inv(coefficients)\n",
        "        solution = np.dot(inverse_matrix, constants)\n",
        "        # Округлення до найближчого цілого числа\n",
        "        return np.round(solution).astype(int)\n",
        "    except np.linalg.LinAlgError as e:\n",
        "        print(\"Помилка при обчисленні оберненої матриці:\", e)\n",
        "        return None\n",
        "\n",
        "# Метод Крамера\n",
        "def cramer_method(coefficients, constants):\n",
        "    det_coefficients = np.linalg.det(coefficients)\n",
        "    solutions = []\n",
        "    for i in range(len(coefficients)):\n",
        "        modified_coefficients = np.copy(coefficients)\n",
        "        modified_coefficients[:, i] = constants\n",
        "        solutions.append(round(np.linalg.det(modified_coefficients) / det_coefficients, 1))  # Округлюємо до десятих\n",
        "    return solutions\n",
        "\n",
        "#Метод Гауса\n",
        "\n",
        "def gauss_method(a, b):\n",
        "    n = len(b)\n",
        "\n",
        "    for k in range(0, n-1):\n",
        "        for i in range(k+1, n):\n",
        "            if a[i, k] != 0.0:\n",
        "                lam = a[i, k] / a[k, k]\n",
        "                a[i, k+1:n] = a[i, k+1:n] - lam * a[k, k+1:n]\n",
        "                b[i] = b[i] - lam * b[k]\n",
        "\n",
        "    x = np.zeros(n)\n",
        "    for k in range(n-1, -1, -1):\n",
        "        x[k] = (b[k] - np.dot(a[k, k+1:n], x[k+1:n])) / a[k, k]\n",
        "\n",
        "    return x\n",
        "\n",
        "def main():\n",
        "    a = np.array([[1.0, -2.0, 3.0],\n",
        "                  [4.0, 2.0, -3.0],\n",
        "                  [3.0, -3.0, 5.0]])\n",
        "\n",
        "    b = np.array([-5.0, 0.0, -9.0])\n",
        "\n",
        "    # Матричний метод\n",
        "    x_matrix = matrix_method(a, b)\n",
        "    print(\"Матричний метод:\", x_matrix)\n",
        "\n",
        "    # Метод Крамера\n",
        "    x_cramer = cramer_method(a, b)\n",
        "    print(\"Метод Крамера:\", x_cramer)\n",
        "\n",
        "    # Метод Гауса\n",
        "    x_gauss = gauss_method(a, b)\n",
        "    print(\"Метод Гауса:\", x_gauss)\n",
        "\n",
        "\n",
        "if __name__ == \"__main__\":\n",
        "    main()\n"
      ],
      "metadata": {
        "colab": {
          "base_uri": "https://localhost:8080/"
        },
        "id": "UeBP6eyDV2zH",
        "outputId": "8c1ec8d2-fcb7-4bf8-adb5-c22b3b627e80"
      },
      "execution_count": 42,
      "outputs": [
        {
          "output_type": "stream",
          "name": "stdout",
          "text": [
            "Матричний метод: [-1  2  0]\n",
            "Метод Крамера: [-1.0, 2.0, 0.0]\n",
            "Метод Гауса: [-1.  2.  0.]\n"
          ]
        }
      ]
    },
    {
      "cell_type": "code",
      "source": [
        "a = np.array([[1.0, -2.0, 3.0],\n",
        "                  [4.0, 2.0, -3.0],\n",
        "                  [3.0, -3.0, 5.0]])\n",
        "\n",
        "b = np.array([-5.0, 0.0, -9.0])\n",
        "x = np.linalg.solve(a, b)\n",
        "print('Перевірка:')\n",
        "print('x =', x.round(1))"
      ],
      "metadata": {
        "colab": {
          "base_uri": "https://localhost:8080/"
        },
        "id": "m7kJ8PWzWV6K",
        "outputId": "ca215d1e-140d-4552-f933-f1e76c1c65e0"
      },
      "execution_count": 39,
      "outputs": [
        {
          "output_type": "stream",
          "name": "stdout",
          "text": [
            "Перевірка:\n",
            "x = [-1.  2. -0.]\n"
          ]
        }
      ]
    },
    {
      "cell_type": "markdown",
      "source": [
        "2. Розв'язати 1 завдання з наведених нижче\n",
        "\n",
        "Створіть прямокутну матрицю А, яка має N рядків і M стовпці з випадковими елементами. Визначте, скільки негативних елементів міститься в кожному стовпці та в кожному рядку матриці"
      ],
      "metadata": {
        "id": "le-W_fPSY-O_"
      }
    },
    {
      "cell_type": "code",
      "source": [
        "import numpy as np\n",
        "\n",
        "def create_matrix(N, M):\n",
        "    matrix = np.random.randint(-10, 11, size=(N, M))\n",
        "    return matrix\n",
        "\n",
        "def count_negative_elements(matrix):\n",
        "    negative_counts_rows = np.sum(matrix < 0, axis=1)\n",
        "\n",
        "    negative_counts_cols = np.sum(matrix < 0, axis=0)\n",
        "\n",
        "    return negative_counts_rows, negative_counts_cols\n",
        "\n",
        "def main():\n",
        "    N = 4\n",
        "    M = 5\n",
        "\n",
        "    matrix = create_matrix(N, M)\n",
        "    print(\"Матриця:\")\n",
        "    print(matrix)\n",
        "\n",
        "    negative_counts_rows, negative_counts_cols = count_negative_elements(matrix)\n",
        "\n",
        "    print(\"Кількість негативних елементів у кожному рядку:\")\n",
        "    print(negative_counts_rows)\n",
        "\n",
        "    print(\"Кількість негативних елементів у кожному стовпці:\")\n",
        "    print(negative_counts_cols)\n",
        "\n",
        "if __name__ == \"__main__\":\n",
        "    main()\n"
      ],
      "metadata": {
        "colab": {
          "base_uri": "https://localhost:8080/"
        },
        "id": "j8PXfjTsZzBE",
        "outputId": "b129e45b-2725-4f3a-d35c-bb3207a7a231"
      },
      "execution_count": 46,
      "outputs": [
        {
          "output_type": "stream",
          "name": "stdout",
          "text": [
            "Матриця:\n",
            "[[  1   6  -1   7   7]\n",
            " [  0 -10   3  -5  -6]\n",
            " [ -2  -2   2   2   9]\n",
            " [  8  -4  10 -10  -3]]\n",
            "Кількість негативних елементів у кожному рядку:\n",
            "[1 3 2 3]\n",
            "Кількість негативних елементів у кожному стовпці:\n",
            "[1 3 1 2 2]\n"
          ]
        }
      ]
    }
  ]
}