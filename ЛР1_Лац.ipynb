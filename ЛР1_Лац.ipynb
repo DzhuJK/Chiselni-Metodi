{
  "nbformat": 4,
  "nbformat_minor": 0,
  "metadata": {
    "colab": {
      "provenance": [],
      "authorship_tag": "ABX9TyNircDUnzH0t6st/sCtDrxt",
      "include_colab_link": true
    },
    "kernelspec": {
      "name": "python3",
      "display_name": "Python 3"
    },
    "language_info": {
      "name": "python"
    }
  },
  "cells": [
    {
      "cell_type": "markdown",
      "metadata": {
        "id": "view-in-github",
        "colab_type": "text"
      },
      "source": [
        "<a href=\"https://colab.research.google.com/github/DzhuJK/Chiselni-Metodi/blob/main/%D0%9B%D0%A01_%D0%9B%D0%B0%D1%86.ipynb\" target=\"_parent\"><img src=\"https://colab.research.google.com/assets/colab-badge.svg\" alt=\"Open In Colab\"/></a>"
      ]
    },
    {
      "cell_type": "markdown",
      "source": [
        "#Лац Варвара\n",
        "Лабораторна робота №1\n",
        "Варіант 9\n",
        "Група 2-8"
      ],
      "metadata": {
        "id": "rKQn7whBGhi9"
      }
    },
    {
      "cell_type": "code",
      "source": [
        "!pip install numpy"
      ],
      "metadata": {
        "colab": {
          "base_uri": "https://localhost:8080/"
        },
        "id": "jQdQ5V0qVFK1",
        "outputId": "7b2dbb7c-4d2a-44e6-e4d2-00cef4b30e49"
      },
      "execution_count": null,
      "outputs": [
        {
          "output_type": "stream",
          "name": "stdout",
          "text": [
            "Requirement already satisfied: numpy in /usr/local/lib/python3.10/dist-packages (1.26.4)\n"
          ]
        }
      ]
    },
    {
      "cell_type": "code",
      "source": [
        "import numpy as np\n",
        "\n",
        "def f(x, y):\n",
        "    return np.abs(x - y) / np.abs(x)\n",
        "\n",
        "def main():\n",
        "    # Точні значення\n",
        "    x1 = np.sqrt(83)  #sqrt(83)\n",
        "    x2 = 6 / 11  #6/11\n",
        "\n",
        "    # Наближені значення\n",
        "    x1_1 = 9.11  #sqrt(83)\n",
        "    x2_2 = 0.545  #6/11\n",
        "\n",
        "    # Обчислення відносних похибок\n",
        "    rel_error_x1 = f(x1, x1_1)\n",
        "    rel_error_x2 = f(x2, x2_2)\n",
        "\n",
        "    # Порівняння відносних похибок\n",
        "    if rel_error_x1 < rel_error_x2:\n",
        "        print(\"Перше наближення точніше з відносною похибкою:\", round(rel_error_x1, 5))\n",
        "    elif rel_error_x2 < rel_error_x1:\n",
        "        print(\"Друге наближення точніше з відносною похибкою:\", round(rel_error_x2, 5))\n",
        "    else:\n",
        "        print(\"Обидва наближення мають однакову точність з відносною похибкою:\", round(rel_error_x2, 5))\n",
        "\n",
        "if __name__ == \"__main__\":\n",
        "    main()\n",
        "\n"
      ],
      "metadata": {
        "colab": {
          "base_uri": "https://localhost:8080/"
        },
        "id": "bbDC-gR8HFTS",
        "outputId": "b901e448-5b2d-4b57-fda2-e5c0b86fd7bd"
      },
      "execution_count": 10,
      "outputs": [
        {
          "output_type": "stream",
          "name": "stdout",
          "text": [
            "Перше наближення точніше з відносною похибкою: 5e-05\n"
          ]
        }
      ]
    }
  ]
}