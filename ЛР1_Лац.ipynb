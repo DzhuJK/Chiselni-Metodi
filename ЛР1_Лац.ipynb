{
  "nbformat": 4,
  "nbformat_minor": 0,
  "metadata": {
    "colab": {
      "provenance": [],
      "authorship_tag": "ABX9TyPmqRe22YBN0S44+1WeFUpa",
      "include_colab_link": true
    },
    "kernelspec": {
      "name": "python3",
      "display_name": "Python 3"
    },
    "language_info": {
      "name": "python"
    }
  },
  "cells": [
    {
      "cell_type": "markdown",
      "metadata": {
        "id": "view-in-github",
        "colab_type": "text"
      },
      "source": [
        "<a href=\"https://colab.research.google.com/github/DzhuJK/Chiselni-Metodi/blob/main/%D0%9B%D0%A01_%D0%9B%D0%B0%D1%86.ipynb\" target=\"_parent\"><img src=\"https://colab.research.google.com/assets/colab-badge.svg\" alt=\"Open In Colab\"/></a>"
      ]
    },
    {
      "cell_type": "markdown",
      "source": [
        "#Лац Варвара\n",
        "Лабораторна робота №1\n",
        "Варіант 9\n",
        "Група 2-8"
      ],
      "metadata": {
        "id": "rKQn7whBGhi9"
      }
    },
    {
      "cell_type": "code",
      "source": [
        "import numpy as np\n",
        "\n",
        "def f(x, y):\n",
        "    return np.abs(x - y) / np.abs(x)\n",
        "\n",
        "def main():\n",
        "    x1 = np.sqrt(83)  # Точне значення sqrt(83)\n",
        "    x2 = 6 / 11  # Точне значення 6/11\n",
        "    x1_1 = 9.11  # Наближене значення sqrt(83)\n",
        "    x2_2 = 0.545  # Наближене значення 6/11\n",
        "\n",
        "    rel_error_x1 = f(x1, x1_1)\n",
        "    rel_error_x2 = f(x2, x2_2)\n",
        "\n",
        "    if rel_error_x1 < rel_error_x2:\n",
        "        print(\"Перша рівність точніше з відносною похибкою:\", round(rel_error_x1, 5))\n",
        "    elif rel_error_x2 < rel_error_x1:\n",
        "        print(\"Друга рівність точніше з відносною похибкою:\", round(rel_error_x2, 5))\n",
        "    else:\n",
        "        print(\"Обидві рівності мають однакову точність з відносною похибкою:\", round(rel_error_x2, 5))\n",
        "\n",
        "if __name__ == \"__main__\":\n",
        "    main()\n"
      ],
      "metadata": {
        "colab": {
          "base_uri": "https://localhost:8080/"
        },
        "id": "bbDC-gR8HFTS",
        "outputId": "06ef4b31-5615-4cbc-804a-3bde5e8cec59"
      },
      "execution_count": 5,
      "outputs": [
        {
          "output_type": "stream",
          "name": "stdout",
          "text": [
            "Перша рівність точніше з відносною похибкою: 5e-05\n"
          ]
        }
      ]
    }
  ]
}